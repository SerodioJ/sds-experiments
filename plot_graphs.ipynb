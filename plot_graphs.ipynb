{
 "cells": [
  {
   "cell_type": "code",
   "execution_count": 1,
   "id": "c3e716b6",
   "metadata": {},
   "outputs": [],
   "source": [
    "import csv\n",
    "import matplotlib.pyplot as plt\n",
    "import numpy as  np"
   ]
  },
  {
   "cell_type": "code",
   "execution_count": 2,
   "id": "ac989c5c",
   "metadata": {},
   "outputs": [],
   "source": [
    "# Use latex style requires installing some packeges\n",
    "# apt install texlive texlive-latex-extra texlive-fonts-recommended dvipng cm-super texlive-science\n",
    "plt.style.use('./article.mplstyle')"
   ]
  },
  {
   "cell_type": "markdown",
   "id": "35753f13",
   "metadata": {},
   "source": [
    "## Metric Placement Experiment"
   ]
  },
  {
   "cell_type": "code",
   "execution_count": 3,
   "id": "b08efba0",
   "metadata": {},
   "outputs": [],
   "source": [
    "def get_data(folder, labels):\n",
    "    data = {label: {\n",
    "            \"energy\": [],\n",
    "            \"energy_std\": [],\n",
    "            \"time\": [],\n",
    "            \"time_std\": [],\n",
    "            \"exp_time\": []\n",
    "        } for label in labels\n",
    "    }\n",
    "    with open(f\"{folder}/exp_relocate_metrics.csv\") as file:\n",
    "        reader = csv.reader(file, delimiter=\",\")\n",
    "        next(reader)\n",
    "        for row in reader:\n",
    "            data[row[5]][\"energy\"].append(float(row[0]))\n",
    "            data[row[5]][\"energy_std\"].append(float(row[1]))\n",
    "            data[row[5]][\"time\"].append(float(row[2]))\n",
    "            data[row[5]][\"time_std\"].append(float(row[3]))\n",
    "            data[row[5]][\"exp_time\"].append(float(row[4]))\n",
    "\n",
    "    with open(f\"{folder}/exp_relocate_exp_events.csv\") as file:\n",
    "        reader = csv.reader(file, delimiter=\",\")\n",
    "        for row in reader:\n",
    "            if row[0] == \"search\":\n",
    "                search_time = float(row[1])\n",
    "    return data, search_time"
   ]
  },
  {
   "cell_type": "code",
   "execution_count": 4,
   "id": "6706e8ae",
   "metadata": {},
   "outputs": [],
   "source": [
    "labels = [\"local\", \"relocate\"]\n",
    "\n",
    "placement = {\n",
    "    \"local\": \"local (g15)\",\n",
    "    \"relocate\": \"relocate (xps)\"\n",
    "}"
   ]
  },
  {
   "cell_type": "code",
   "execution_count": 5,
   "id": "b1b4f429",
   "metadata": {},
   "outputs": [
    {
     "data": {
      "image/png": "[encoded data removed]",
      "text/plain": [
       "<Figure size 352.8x252 with 1 Axes>"
      ]
     },
     "metadata": {
      "needs_background": "light"
     },
     "output_type": "display_data"
    }
   ],
   "source": [
    "folder = \"experiments/metric_placement/relocate_energy\"\n",
    "data, search_time = get_data(folder, labels)\n",
    "for label, points in data.items():\n",
    "    plt.scatter(points[\"exp_time\"], points[\"energy\"], label = placement[label])\n",
    "    plt.errorbar(points[\"exp_time\"], points[\"energy\"], fmt=\"o\", yerr=points[\"energy_std\"])\n",
    "    \n",
    "plt.axvspan(0, search_time, alpha=0.2, label=\"adaptation window\")\n",
    "plt.xlabel(\"Experiment Time (s)\")\n",
    "plt.ylabel(\"Energy (J)\")\n",
    "plt.legend()\n",
    "plt.xlim(0)\n",
    "plt.title(\"Using energy as placement metric\")\n",
    "plt.savefig('metric_energy.pdf')  \n"
   ]
  },
  {
   "cell_type": "code",
   "execution_count": 6,
   "id": "7615a4f5",
   "metadata": {},
   "outputs": [
    {
     "data": {
      "image/png": "[encoded data removed]",
      "text/plain": [
       "<Figure size 352.8x252 with 1 Axes>"
      ]
     },
     "metadata": {
      "needs_background": "light"
     },
     "output_type": "display_data"
    }
   ],
   "source": [
    "folder = \"experiments/metric_placement/relocate_time\"\n",
    "data, search_time = get_data(folder, labels)\n",
    "for label, points in data.items():\n",
    "    plt.scatter(points[\"exp_time\"], points[\"time\"], label = placement[label])\n",
    "    plt.errorbar(points[\"exp_time\"], points[\"time\"], fmt=\"o\", yerr=points[\"time_std\"])\n",
    "    \n",
    "plt.axvspan(0, search_time, alpha=0.2, label=\"adaptation window\")\n",
    "plt.xlabel(\"Experiment Time (s)\")\n",
    "plt.ylabel(\"Operation Time (s)\")\n",
    "plt.legend()\n",
    "plt.xlim(0)\n",
    "plt.title(\"Using time as placement metric\")\n",
    "plt.savefig('metric_time.pdf') "
   ]
  },
  {
   "cell_type": "code",
   "execution_count": null,
   "id": "42e5c3b1",
   "metadata": {},
   "outputs": [],
   "source": []
  }
 ],
 "metadata": {
  "kernelspec": {
   "display_name": "Python 3 (ipykernel)",
   "language": "python",
   "name": "python3"
  },
  "language_info": {
   "codemirror_mode": {
    "name": "ipython",
    "version": 3
   },
   "file_extension": ".py",
   "mimetype": "text/x-python",
   "name": "python",
   "nbconvert_exporter": "python",
   "pygments_lexer": "ipython3",
   "version": "3.9.7"
  }
 },
 "nbformat": 4,
 "nbformat_minor": 5
}
